{
  "nbformat": 4,
  "nbformat_minor": 0,
  "metadata": {
    "colab": {
      "provenance": [],
      "collapsed_sections": [],
      "authorship_tag": "ABX9TyMcesBHXv089e806125ZlhN",
      "include_colab_link": true
    },
    "kernelspec": {
      "name": "python3",
      "display_name": "Python 3"
    },
    "language_info": {
      "name": "python"
    }
  },
  "cells": [
    {
      "cell_type": "markdown",
      "metadata": {
        "id": "view-in-github",
        "colab_type": "text"
      },
      "source": [
        "<a href=\"https://colab.research.google.com/github/lmaMater/ITMO-Physics-Modeling/blob/main/model2.ipynb\" target=\"_parent\"><img src=\"https://colab.research.google.com/assets/colab-badge.svg\" alt=\"Open In Colab\"/></a>"
      ]
    },
    {
      "cell_type": "markdown",
      "source": [
        "Движение частицы в поле плоского конденсатора."
      ],
      "metadata": {
        "id": "ySItfUIr0MTp"
      }
    },
    {
      "cell_type": "markdown",
      "source": [
        "Постановка задачи:\n",
        "\n",
        "Частица влетает в поле конденсатора параллельно пластинам вдоль оси конденса-\n",
        "тора. Частица имеет массу m и заряд q (знак не определен). Под действием поля\n",
        "конденсатора частица отклоняется к одной из пластин (в зависимости от знака\n",
        "заряда) и к концу пути попадает на неё. Координату, где упала частица мож-\n",
        "но измерить. Известны также расстояние между пластинами и напряжение на\n",
        "конденсаторе.\n",
        "\n",
        "Создать модель поведения частицы с возможностью изучения её\n",
        "траектории в зависимости от изменяемых параметров системы (масса, знак и\n",
        "модуль заряда частицы, расстояние между пластинами конденсатора, а также\n",
        "другие параметры являются входными данными для задачи). Определить закон,\n",
        "по которому изменяется траектория движения частицы. Учесть влияние силы\n",
        "тяжести на частицу и визуализировать траекторию движения частицы в виде\n",
        "графика."
      ],
      "metadata": {
        "id": "AwhjjZTd0h1F"
      }
    },
    {
      "cell_type": "markdown",
      "source": [
        "Договоримся, что верхняя пластина заряжена \"+\", а нижняя \"-\" так, чтобы вектор напряженности электрического поле E был направлен от верхней пластины к нижней.\n",
        "Далее введем оси Ox и Oy так, чтобы пластины конденсатора были параллельны Ox и находились на расстоянии l/2 от нее, Oy перпендикулярна Ox и направлена вверх(от нижней пластины к верхней), частица начинает движение из точки (0, 0) параллельно пластинам вдоль направления Ox.\n",
        "\n",
        "Пользователь вправе задать такие изначальные данные для задачи, как начальную скорость, массу частицы, заряд частицы, напряженность поля и расстояние между пластинами.\n"
      ],
      "metadata": {
        "id": "x1VwjedU0zd1"
      }
    },
    {
      "cell_type": "markdown",
      "source": [
        "Рассмотрим отдельно движение тела по каждой из осей:\n",
        "\n",
        "Ox: по горизонтали тело равномерно движется с начальной скоростью, тогда координату тела x  в момент времени t можно рассчитать как: \n",
        "\n",
        "x_t = v_0 * t\n",
        "\n",
        "Oy: по вертикали тело движется равноускоренно под действием силы тяжести и силы электрического поля F_э. Тогда по II закону Ньютона, спроецировав на Oy получим:\n",
        "\n",
        " -mg -+ F_э = -+ma\n",
        "\n",
        "Зная, что F_э = qE, выражаем ускорение по y как:\n",
        "\n",
        " a = (mg +- qE) / m\n",
        "\n",
        " И полный закон движения по y будет выглядеть как:\n",
        "\n",
        " y_t = v_0 * t + at^2 / 2 = 0 + (mg+-qE)t^2 / 2m"
      ],
      "metadata": {
        "id": "FPgfhGVl35YH"
      }
    },
    {
      "cell_type": "markdown",
      "source": [
        "Реализуем построение модели с помощью библиотеки matplotlib для Python:"
      ],
      "metadata": {
        "id": "vj-KHGT_6T0D"
      }
    },
    {
      "cell_type": "code",
      "source": [
        "import matplotlib.pyplot as plt\n",
        "\n",
        "g = 9.80665  # сила тяжести\n",
        "col = '#ff5349'\n",
        "\n",
        "\n",
        "#  функции для расчета координат по x и y соответственно\n",
        "def x_coordinate(v, t):\n",
        "    return v * t\n",
        "\n",
        "\n",
        "def y_coordinate(m, q, E, t):\n",
        "    global g\n",
        "    return ((-(m * g + q * E)) * t ** 2) / (2 * m)\n",
        "\n",
        "# default\n",
        "v_0 = 1e10  # м/c\n",
        "m = 1e-15  # кг\n",
        "q = -1e-14  # в\n",
        "E = 5000  # Н/м\n",
        "l = 1e-2  # м\n",
        "\n",
        "'''\n",
        "print('Введите начальную скорость v_0, м:')\n",
        "v_0 = int(input())\n",
        "print('Введите массу частицы m, кг:')\n",
        "m = int(input())\n",
        "print('Введите заряд частицы Кл:')\n",
        "q = int(input())\n",
        "print('Введите напряженность поля, Н/м:')\n",
        "E = int(input())\n",
        "print('Введите расстояние между пластинами, м:')\n",
        "l = int(input())\n",
        "'''\n",
        "\n",
        "#  Если сумма силы тяжески и силы эл. поля равна нулю,\n",
        "#  то частица будет бесконечно двигаться параллельно Ox\n",
        "if m * g == q * E:\n",
        "    print('Невозможно определить координату падения частицы')\n",
        "    exit(-1)\n",
        "\n",
        "interval = 1e-6  # интервал на Ox\n",
        "\n",
        "cur_t, x, y = 0, [], []\n",
        "while abs(y_coordinate(m, q, E, cur_t)) < l / 2:\n",
        "    x += [x_coordinate(v_0, cur_t)]\n",
        "    y += [y_coordinate(m, q, E, cur_t)]\n",
        "    cur_t += interval\n",
        "\n",
        "x += [x_coordinate(v_0, cur_t)]\n",
        "y += [y_coordinate(m, q, E, cur_t)]\n",
        "\n",
        "# ограничиваем ось Oy\n",
        "plt.ylim(-1.2 * (l / 2), 1.2 * (l / 2))\n",
        "\n",
        "#  пластины конденсатора\n",
        "plt.hlines(l / 2, 0, 1.1 * x[-1])\n",
        "plt.hlines(-l / 2, 0, 1.1 * x[-1])\n",
        "plt.text(x[-1] / 2, 1.05 * (l / 2), '+', fontsize=15)\n",
        "plt.text(x[-1] / 2, 1.1 * (-l / 2), '—', fontsize=15)\n",
        "\n",
        "#  оси\n",
        "plt.ylabel('x, м')\n",
        "plt.xlabel('y, м')\n",
        "\n",
        "plt.plot(x, y, color=col)\n",
        "#  plt.scatter(x, y, color=col) # точки\n",
        "\n",
        "\n",
        "print('Результат готов!')\n",
        "plt.show()\n"
      ],
      "metadata": {
        "colab": {
          "base_uri": "https://localhost:8080/",
          "height": 300
        },
        "id": "uMi6HeY10MkL",
        "outputId": "b722c8f3-b6fc-471d-9b3a-e81adaa4b3ef"
      },
      "execution_count": null,
      "outputs": [
        {
          "output_type": "stream",
          "name": "stdout",
          "text": [
            "Результат готов!\n"
          ]
        },
        {
          "output_type": "display_data",
          "data": {
            "text/plain": [
              "<Figure size 432x288 with 1 Axes>"
            ],
            "image/png": "[encoded data removed]"
          },
          "metadata": {
            "needs_background": "light"
          }
        }
      ]
    },
    {
      "cell_type": "markdown",
      "source": [
        "Моделирование выполнили Яруллин Степан и Михеев Альберт, группа M3101."
      ],
      "metadata": {
        "id": "2MYpK1uP7Evx"
      }
    }
  ]
}